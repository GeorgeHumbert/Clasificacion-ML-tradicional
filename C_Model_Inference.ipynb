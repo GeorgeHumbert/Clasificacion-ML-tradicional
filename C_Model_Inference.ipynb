{
 "cells": [
  {
   "cell_type": "code",
   "execution_count": 1,
   "id": "8100b02e-3280-427b-8b4a-1a5e8fbf966b",
   "metadata": {},
   "outputs": [],
   "source": [
    "import joblib\n",
    "\n",
    "# Cargar el modelo entrenado\n",
    "modelo_cargado = joblib.load(\"modelo_random_forest_optimizado.pkl\")\n"
   ]
  },
  {
   "cell_type": "code",
   "execution_count": 2,
   "id": "fa1bddef-2c1a-4666-b4be-7b7c01b3b930",
   "metadata": {},
   "outputs": [],
   "source": [
    "import pandas as pd\n",
    "\n",
    "# Definir datos de ejemplo\n",
    "datos_nuevos = pd.DataFrame({\n",
    "    'pclass': [1],\n",
    "    'sex': [0],  # 0 para 'male'\n",
    "    'age': [29],\n",
    "    'sibsp': [1],\n",
    "    'parch': [0],\n",
    "    'fare': [50],\n",
    "    'familysize': [1],\n",
    "    'embarked_c': [1],  # 1 para True\n",
    "    'embarked_q': [0],  # 0 para False\n",
    "    'embarked_s': [0]   # 0 para False\n",
    "})\n"
   ]
  },
  {
   "cell_type": "code",
   "execution_count": 3,
   "id": "22ea24a5-9e0f-4229-88c5-6fbf90e4395d",
   "metadata": {},
   "outputs": [],
   "source": [
    "# Asegurarse de que las columnas coincidan con las del entrenamiento\n",
    "columnas_entrenamiento = modelo_cargado.feature_names_in_  # Recuperamos las columnas del modelo\n",
    "datos_nuevos = datos_nuevos.reindex(columns=columnas_entrenamiento, fill_value=0)\n"
   ]
  },
  {
   "cell_type": "code",
   "execution_count": 4,
   "id": "0b2bd2d0-ab6e-49d9-b65b-eb4b07f51ba8",
   "metadata": {},
   "outputs": [
    {
     "name": "stdout",
     "output_type": "stream",
     "text": [
      "Predicción: [1]\n"
     ]
    }
   ],
   "source": [
    "# Realizar la predicción\n",
    "prediccion = modelo_cargado.predict(datos_nuevos)\n",
    "print(f\"Predicción: {prediccion}\")\n"
   ]
  },
  {
   "cell_type": "code",
   "execution_count": 5,
   "id": "579cb8d4-3d56-4a4f-856c-770d4a77d23b",
   "metadata": {},
   "outputs": [],
   "source": [
    "# Guardar los resultados\n",
    "datos_nuevos['prediccion'] = prediccion\n",
    "datos_nuevos.to_csv('predicciones.csv', index=False)\n"
   ]
  },
  {
   "cell_type": "code",
   "execution_count": null,
   "id": "01d65005-a1af-4d71-baa0-cf8848b54fc0",
   "metadata": {},
   "outputs": [],
   "source": []
  }
 ],
 "metadata": {
  "kernelspec": {
   "display_name": "Python 3 (ipykernel)",
   "language": "python",
   "name": "python3"
  },
  "language_info": {
   "codemirror_mode": {
    "name": "ipython",
    "version": 3
   },
   "file_extension": ".py",
   "mimetype": "text/x-python",
   "name": "python",
   "nbconvert_exporter": "python",
   "pygments_lexer": "ipython3",
   "version": "3.8.19"
  }
 },
 "nbformat": 4,
 "nbformat_minor": 5
}
